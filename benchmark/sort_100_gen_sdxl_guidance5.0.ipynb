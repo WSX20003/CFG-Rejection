{
 "cells": [
  {
   "cell_type": "code",
   "execution_count": 1,
   "id": "c223fcef",
   "metadata": {},
   "outputs": [
    {
     "name": "stderr",
     "output_type": "stream",
     "text": [
      "c:\\Users\\DELL\\.conda\\envs\\geneval\\lib\\site-packages\\tqdm\\auto.py:21: TqdmWarning: IProgress not found. Please update jupyter and ipywidgets. See https://ipywidgets.readthedocs.io/en/stable/user_install.html\n",
      "  from .autonotebook import tqdm as notebook_tqdm\n"
     ]
    }
   ],
   "source": [
    "import torch\n",
    "import numpy as np\n",
    "from tqdm import *\n",
    "import os\n",
    "import matplotlib.pyplot as plt\n",
    "import PIL.Image\n",
    "from torchvision.transforms import ToTensor\n",
    "from torchvision.utils import make_grid\n",
    "from einops import rearrange"
   ]
  },
  {
   "cell_type": "code",
   "execution_count": null,
   "id": "f0b11cab",
   "metadata": {},
   "outputs": [],
   "source": [
    "def save_png_files_by_name(file_name, source_dir, target_dir,store_name):\n",
    "    if not os.path.exists(target_dir):\n",
    "        os.makedirs(target_dir)\n",
    "\n",
    "    source_path = os.path.join(source_dir, file_name)\n",
    "    with PIL.Image.open(source_path) as img:\n",
    "        target_path = os.path.join(target_dir, store_name)\n",
    "        img.save(target_path)"
   ]
  },
  {
   "cell_type": "code",
   "execution_count": null,
   "id": "092f4ba9",
   "metadata": {},
   "outputs": [],
   "source": [
    "sigma_SDXL = torch.load(\"D:/stable_diffusion_3/sigma_SDXL_50.pth\")\n",
    "sigma_SDXL = sigma_SDXL.unsqueeze(-1)"
   ]
  },
  {
   "cell_type": "code",
   "execution_count": 5,
   "id": "abda55c6",
   "metadata": {},
   "outputs": [
    {
     "name": "stderr",
     "output_type": "stream",
     "text": [
      "100%|██████████| 553/553 [18:05<00:00,  1.96s/it]\n"
     ]
    }
   ],
   "source": [
    "total_num = 20\n",
    "begin_idx = 0\n",
    "eval_num = 4\n",
    "for prompt_idx in tqdm(range(553)):\n",
    "    source_path = os.path.join(\"D:/100_images_SDXL_guidance5.0\", f\"{prompt_idx:0>5}\")\n",
    "    sample_path = os.path.join(source_path, \"samples\")\n",
    "    image_to_eval = os.path.join(source_path, \"eval_images_4_from_20_trial1\")\n",
    "    os.makedirs(image_to_eval, exist_ok=True)\n",
    "\n",
    "    nv_gap_origin = torch.load(os.path.join(source_path,'guidance{}.pth'.format(5.0)))\n",
    "    noise_gap = sigma_SDXL*nv_gap_origin.permute(1,0)\n",
    "    noise_mean = torch.mean(noise_gap,dim=0)\n",
    "    noise_mean = noise_mean[begin_idx:begin_idx+total_num]\n",
    "    sorted_mean,idx_mean = torch.sort(noise_mean,descending=True)\n",
    "    for i in range(eval_num):\n",
    "        image_idx = idx_mean[i].item()\n",
    "        file_name = f\"{image_idx+begin_idx:05}.png\"\n",
    "        target_name_2 = f\"{i:05}.png\"\n",
    "        save_png_files_by_name(file_name, sample_path, image_to_eval,target_name_2)"
   ]
  },
  {
   "cell_type": "code",
   "execution_count": 7,
   "id": "d3403e7c",
   "metadata": {},
   "outputs": [
    {
     "name": "stderr",
     "output_type": "stream",
     "text": [
      "100%|██████████| 553/553 [21:31<00:00,  2.33s/it]\n"
     ]
    }
   ],
   "source": [
    "total_num = 50\n",
    "begin_idx = 0\n",
    "eval_num = 4\n",
    "for prompt_idx in tqdm(range(553)):\n",
    "    source_path = os.path.join(\"D:/100_images_SDXL_guidance5.0\", f\"{prompt_idx:0>5}\")\n",
    "    sample_path = os.path.join(source_path, \"samples\")\n",
    "    image_to_eval = os.path.join(source_path, \"eval_images_4_from_50_trial1\")\n",
    "    os.makedirs(image_to_eval, exist_ok=True)\n",
    "\n",
    "    nv_gap_origin = torch.load(os.path.join(source_path,'guidance{}.pth'.format(5.0)))\n",
    "    noise_gap = sigma_SDXL*nv_gap_origin.permute(1,0)\n",
    "    noise_mean = torch.mean(noise_gap,dim=0)\n",
    "    noise_mean = noise_mean[begin_idx:begin_idx+total_num]\n",
    "    sorted_mean,idx_mean = torch.sort(noise_mean,descending=True)\n",
    "    for i in range(eval_num):\n",
    "        image_idx = idx_mean[i].item()\n",
    "        file_name = f\"{image_idx+begin_idx:05}.png\"\n",
    "        target_name_2 = f\"{i:05}.png\"\n",
    "        save_png_files_by_name(file_name, sample_path, image_to_eval,target_name_2)"
   ]
  },
  {
   "cell_type": "markdown",
   "id": "25542f7a",
   "metadata": {},
   "source": [
    "Selection in the early denoisng"
   ]
  },
  {
   "cell_type": "code",
   "execution_count": 8,
   "id": "8c1cedf9",
   "metadata": {},
   "outputs": [
    {
     "name": "stderr",
     "output_type": "stream",
     "text": [
      "100%|██████████| 553/553 [38:12<00:00,  4.15s/it] \n"
     ]
    }
   ],
   "source": [
    "select_step = 10\n",
    "total_num = 20\n",
    "begin_idx = 0\n",
    "eval_num = 4\n",
    "for prompt_idx in tqdm(range(553)):\n",
    "    source_path = os.path.join(\"D:/100_images_SDXL_guidance5.0\", f\"{prompt_idx:0>5}\")\n",
    "    sample_path = os.path.join(source_path, \"samples\")\n",
    "    image_to_eval = os.path.join(source_path, \"step{}_4_from_20_trial1\".format(select_step))\n",
    "    os.makedirs(image_to_eval, exist_ok=True)\n",
    "\n",
    "    nv_gap_origin = torch.load(os.path.join(source_path,'guidance{}.pth'.format(5.0)))\n",
    "    noise_gap = sigma_SDXL*nv_gap_origin.permute(1,0)\n",
    "    nv_classifier = noise_gap[:select_step]\n",
    "    noise_mean = torch.mean(nv_classifier,dim=0)\n",
    "    noise_mean = noise_mean[begin_idx:begin_idx+total_num]\n",
    "    sorted_mean,idx_mean = torch.sort(noise_mean,descending=True)\n",
    "    for i in range(eval_num):\n",
    "        image_idx = idx_mean[i].item()\n",
    "        file_name = f\"{image_idx+begin_idx:05}.png\"\n",
    "        target_name_2 = f\"{i:05}.png\"\n",
    "        save_png_files_by_name(file_name, sample_path, image_to_eval,target_name_2)"
   ]
  },
  {
   "cell_type": "code",
   "execution_count": 10,
   "id": "21b40cad",
   "metadata": {},
   "outputs": [
    {
     "name": "stderr",
     "output_type": "stream",
     "text": [
      "100%|██████████| 553/553 [25:58<00:00,  2.82s/it] \n"
     ]
    }
   ],
   "source": [
    "select_step = 20\n",
    "total_num = 20\n",
    "begin_idx = 0\n",
    "eval_num = 4\n",
    "for prompt_idx in tqdm(range(553)):\n",
    "    source_path = os.path.join(\"D:/100_images_SDXL_guidance5.0\", f\"{prompt_idx:0>5}\")\n",
    "    sample_path = os.path.join(source_path, \"samples\")\n",
    "    image_to_eval = os.path.join(source_path, \"step{}_4_from_20_trial1\".format(select_step))\n",
    "    os.makedirs(image_to_eval, exist_ok=True)\n",
    "\n",
    "    nv_gap_origin = torch.load(os.path.join(source_path,'guidance{}.pth'.format(5.0)))\n",
    "    noise_gap = sigma_SDXL*nv_gap_origin.permute(1,0)\n",
    "    nv_classifier = noise_gap[:select_step]\n",
    "    noise_mean = torch.mean(nv_classifier,dim=0)\n",
    "    noise_mean = noise_mean[begin_idx:begin_idx+total_num]\n",
    "    sorted_mean,idx_mean = torch.sort(noise_mean,descending=True)\n",
    "    for i in range(eval_num):\n",
    "        image_idx = idx_mean[i].item()\n",
    "        file_name = f\"{image_idx+begin_idx:05}.png\"\n",
    "        target_name_2 = f\"{i:05}.png\"\n",
    "        save_png_files_by_name(file_name, sample_path, image_to_eval,target_name_2)\n",
    "    del nv_gap_origin,noise_gap,nv_classifier,noise_mean,sorted_mean,idx_mean\n",
    "    torch.cuda.empty_cache()"
   ]
  },
  {
   "cell_type": "code",
   "execution_count": 11,
   "id": "7c00416c",
   "metadata": {},
   "outputs": [
    {
     "name": "stderr",
     "output_type": "stream",
     "text": [
      "100%|██████████| 553/553 [30:08<00:00,  3.27s/it]\n"
     ]
    }
   ],
   "source": [
    "select_step = 30\n",
    "total_num = 20\n",
    "begin_idx = 0\n",
    "eval_num = 4\n",
    "for prompt_idx in tqdm(range(553)):\n",
    "    source_path = os.path.join(\"D:/100_images_SDXL_guidance5.0\", f\"{prompt_idx:0>5}\")\n",
    "    sample_path = os.path.join(source_path, \"samples\")\n",
    "    image_to_eval = os.path.join(source_path, \"step{}_4_from_20_trial1\".format(select_step))\n",
    "    os.makedirs(image_to_eval, exist_ok=True)\n",
    "\n",
    "    nv_gap_origin = torch.load(os.path.join(source_path,'guidance{}.pth'.format(5.0)))\n",
    "    noise_gap = sigma_SDXL*nv_gap_origin.permute(1,0)\n",
    "    nv_classifier = noise_gap[:select_step]\n",
    "    noise_mean = torch.mean(nv_classifier,dim=0)\n",
    "    noise_mean = noise_mean[begin_idx:begin_idx+total_num]\n",
    "    sorted_mean,idx_mean = torch.sort(noise_mean,descending=True)\n",
    "    for i in range(eval_num):\n",
    "        image_idx = idx_mean[i].item()\n",
    "        file_name = f\"{image_idx+begin_idx:05}.png\"\n",
    "        target_name_2 = f\"{i:05}.png\"\n",
    "        save_png_files_by_name(file_name, sample_path, image_to_eval,target_name_2)\n",
    "    del nv_gap_origin,noise_gap,nv_classifier,noise_mean,sorted_mean,idx_mean\n",
    "    torch.cuda.empty_cache()"
   ]
  },
  {
   "cell_type": "code",
   "execution_count": 12,
   "id": "42c55223",
   "metadata": {},
   "outputs": [
    {
     "name": "stderr",
     "output_type": "stream",
     "text": [
      "100%|██████████| 553/553 [20:25<00:00,  2.22s/it] \n"
     ]
    }
   ],
   "source": [
    "select_step = 40\n",
    "total_num = 20\n",
    "begin_idx = 0\n",
    "eval_num = 4\n",
    "for prompt_idx in tqdm(range(553)):\n",
    "    source_path = os.path.join(\"D:/100_images_SDXL_guidance5.0\", f\"{prompt_idx:0>5}\")\n",
    "    sample_path = os.path.join(source_path, \"samples\")\n",
    "    image_to_eval = os.path.join(source_path, \"step{}_4_from_20_trial1\".format(select_step))\n",
    "    os.makedirs(image_to_eval, exist_ok=True)\n",
    "\n",
    "    nv_gap_origin = torch.load(os.path.join(source_path,'guidance{}.pth'.format(5.0)))\n",
    "    noise_gap = sigma_SDXL*nv_gap_origin.permute(1,0)\n",
    "    nv_classifier = noise_gap[:select_step]\n",
    "    noise_mean = torch.mean(nv_classifier,dim=0)\n",
    "    noise_mean = noise_mean[begin_idx:begin_idx+total_num]\n",
    "    sorted_mean,idx_mean = torch.sort(noise_mean,descending=True)\n",
    "    for i in range(eval_num):\n",
    "        image_idx = idx_mean[i].item()\n",
    "        file_name = f\"{image_idx+begin_idx:05}.png\"\n",
    "        target_name_2 = f\"{i:05}.png\"\n",
    "        save_png_files_by_name(file_name, sample_path, image_to_eval,target_name_2)\n",
    "    del nv_gap_origin,noise_gap,nv_classifier,noise_mean,sorted_mean,idx_mean\n",
    "    torch.cuda.empty_cache()"
   ]
  }
 ],
 "metadata": {
  "kernelspec": {
   "display_name": "geneval",
   "language": "python",
   "name": "python3"
  },
  "language_info": {
   "codemirror_mode": {
    "name": "ipython",
    "version": 3
   },
   "file_extension": ".py",
   "mimetype": "text/x-python",
   "name": "python",
   "nbconvert_exporter": "python",
   "pygments_lexer": "ipython3",
   "version": "3.9.16"
  }
 },
 "nbformat": 4,
 "nbformat_minor": 5
}
