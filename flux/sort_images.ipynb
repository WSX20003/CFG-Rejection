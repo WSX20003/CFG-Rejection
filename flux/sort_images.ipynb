{
 "cells": [
  {
   "cell_type": "code",
   "execution_count": 1,
   "metadata": {},
   "outputs": [],
   "source": [
    "import torch\n",
    "import numpy as np\n",
    "from tqdm import *\n",
    "import os\n",
    "import matplotlib.pyplot as plt\n",
    "import PIL.Image"
   ]
  },
  {
   "cell_type": "code",
   "execution_count": null,
   "metadata": {},
   "outputs": [],
   "source": [
    "def save_png_files_by_name(file_name, source_dir, target_dir,store_name):\n",
    "    if not os.path.exists(target_dir):\n",
    "        os.makedirs(target_dir)\n",
    "\n",
    "    source_path = os.path.join(source_dir, file_name)\n",
    "    with PIL.Image.open(source_path) as img:\n",
    "        target_path = os.path.join(target_dir, store_name)\n",
    "        img.save(target_path)"
   ]
  },
  {
   "cell_type": "code",
   "execution_count": null,
   "metadata": {},
   "outputs": [],
   "source": [
    "def cal_metrics(TP,FP,FN):\n",
    "    text_pre = TP/(TP+FP)\n",
    "    text_recall = TP/(TP+FN)\n",
    "    F_score = 2*text_pre*text_recall/(text_recall+text_pre)\n",
    "    text_accu = TP/(TP+FP+FN)\n",
    "    print(text_pre,text_recall,F_score,text_accu)"
   ]
  },
  {
   "cell_type": "code",
   "execution_count": null,
   "metadata": {},
   "outputs": [],
   "source": [
    "sigma_cpu = torch.load(\"guidance_nv_track_trial2/sigma_28.pth\")"
   ]
  },
  {
   "cell_type": "markdown",
   "metadata": {},
   "source": [
    "\"A city skyline at sunset with clouds forming the words 'Together we rise, apart we fall. Embrace unity!'\""
   ]
  },
  {
   "cell_type": "code",
   "execution_count": 5,
   "metadata": {},
   "outputs": [],
   "source": [
    "prompt_idx = 2"
   ]
  },
  {
   "cell_type": "code",
   "execution_count": null,
   "metadata": {},
   "outputs": [],
   "source": [
    "guidance_scale = 6\n",
    "nv_gap_origion = torch.load(\"guidance_nv_track_trial2/prompt{}/dev-guidance{}/dev-guidance{}.pth\".format(prompt_idx,guidance_scale,guidance_scale))\n",
    "\n",
    "nv_gap_norm = torch.norm(nv_gap_origion,dim=[2,3])\n",
    "nv_gap_norm = nv_gap_norm.permute(1,0)\n",
    "noise_gap = nv_gap_norm*sigma_cpu"
   ]
  },
  {
   "cell_type": "code",
   "execution_count": null,
   "metadata": {},
   "outputs": [],
   "source": [
    "total_classifiy = nv_gap_norm.permute(1,0)\n",
    "classify_mean = torch.mean(total_classifiy,dim=-1)\n",
    "sort_noise,sort_idx = torch.sort(classify_mean,descending=True)\n",
    "\n",
    "source_dir = \"guidance_nv_track_trial2/prompt{}/dev-guidance{}\".format(prompt_idx,guidance_scale)\n",
    "target_dir = \"guidance_nv_track_trial2/prompt{}/sorted-guidance{}/total_sort\".format(prompt_idx,guidance_scale)\n",
    "for i in range(100):\n",
    "    image_idx = sort_idx[i].item()\n",
    "    cur_score = sort_noise[i].item()\n",
    "    file_name = \"dev-guidance{}-{}.png\".format(guidance_scale,image_idx)\n",
    "    target_name = \"{}-{}-{}.png\".format(i,cur_score,image_idx)\n",
    "    save_png_files_by_name(file_name, source_dir, target_dir,target_name)"
   ]
  },
  {
   "cell_type": "code",
   "execution_count": null,
   "metadata": {},
   "outputs": [],
   "source": [
    "time_step = 5\n",
    "source_dir = \"guidance_nv_track_trial2/prompt{}/dev-guidance{}\".format(prompt_idx,guidance_scale)\n",
    "best_k = 20\n",
    "\n",
    "for i in range(5):\n",
    "    target_dir = \"guidance_nv_track_trial2/prompt{}/sorted-guidance{}/time_step_{}/best_{}\".format(prompt_idx,guidance_scale,time_step,best_k)\n",
    "    cur_nv = total_classifiy[:,:time_step]\n",
    "    cur_mean = torch.mean(cur_nv,dim=-1)\n",
    "    cur_sort,cur_idx = torch.sort(cur_mean,descending=True)\n",
    "    for k in range(best_k):\n",
    "        image_idx = cur_idx[k].item()\n",
    "        cur_score = classify_mean[image_idx].item()\n",
    "        file_name = \"dev-guidance{}-{}.png\".format(guidance_scale,image_idx)\n",
    "        target_name = \"{}-{}-{}.png\".format(k,cur_score,image_idx)\n",
    "        save_png_files_by_name(file_name, source_dir, target_dir,target_name)\n",
    "    time_step+=5"
   ]
  }
 ],
 "metadata": {
  "kernelspec": {
   "display_name": "flux_dev_trial2",
   "language": "python",
   "name": "python3"
  },
  "language_info": {
   "codemirror_mode": {
    "name": "ipython",
    "version": 3
   },
   "file_extension": ".py",
   "mimetype": "text/x-python",
   "name": "python",
   "nbconvert_exporter": "python",
   "pygments_lexer": "ipython3",
   "version": "3.12.4"
  }
 },
 "nbformat": 4,
 "nbformat_minor": 2
}
